{
 "cells": [
  {
   "cell_type": "code",
   "execution_count": 43,
   "metadata": {},
   "outputs": [],
   "source": [
    "from manim import *\n",
    "import json\n",
    "import numpy as np"
   ]
  },
  {
   "cell_type": "code",
   "execution_count": null,
   "metadata": {},
   "outputs": [],
   "source": [
    "%%manim -ql -v WARNING TMP\n",
    "\n",
    "class JSONFileRepresentation(Code):\n",
    "    def __init__(self, json_file, **kwargs):\n",
    "        json_str = json.dumps(json_file, indent=4)\n",
    "        super().__init__(code=json_str, language=\"json\", **kwargs)\n",
    "\n",
    "class TMP(Scene):\n",
    "    def construct(self):\n",
    "        a1_values = range(1, 4)\n",
    "        a2_values = [value ** 2 for value in a1_values]\n",
    "        a3_values = [value ** 3 for value in a1_values]\n",
    "        a4_values = [value ** 4 for value in a1_values]\n",
    "        a5_values = [value ** 5 for value in a1_values]\n",
    "        json_file = {\n",
    "            \"a1\": f\"{a1_values[0]:05d}\",\n",
    "            \"a2\": f\"{a2_values[0]:05d}\",\n",
    "            \"a3\": f\"{a3_values[0]:05d}\",\n",
    "            \"a4\": f\"{a4_values[0]:05d}\",\n",
    "            \"a5\": f\"{a5_values[0]:05d}\",\n",
    "        }\n",
    "        json_file_representation = JSONFileRepresentation(json_file)\n",
    "        json_file_representation.to_edge(LEFT)\n",
    "        full_matrix = np.array([a1_values, a2_values, a3_values, a4_values, a5_values]).T\n",
    "        matrix_representation = Matrix(full_matrix[0, :].reshape(1, -1))\n",
    "        matrix_representation.to_edge(RIGHT)\n",
    "        self.play(Create(json_file_representation))\n",
    "        self.play(Create(matrix_representation))\n",
    "        self.wait(0.5)\n",
    "        for i in range(1, len(a1_values)):\n",
    "            json_file = {\n",
    "                \"a1\": f\"{a1_values[i]:05d}\",\n",
    "                \"a2\": f\"{a2_values[i]:05d}\",\n",
    "                \"a3\": f\"{a3_values[i]:05d}\",\n",
    "                \"a4\": f\"{a4_values[i]:05d}\",\n",
    "                \"a5\": f\"{a5_values[i]:05d}\",\n",
    "            }\n",
    "            new_json_file_representation = JSONFileRepresentation(json_file).move_to(json_file_representation)\n",
    "            new_matrix_representation = Matrix(full_matrix[:i + 1, :]).move_to(matrix_representation)\n",
    "            self.play(ReplacementTransform(json_file_representation, new_json_file_representation))\n",
    "            self.play(Transform(matrix_representation, new_matrix_representation))\n",
    "            self.wait(0.5)\n",
    "            json_file_representation = new_json_file_representation\n",
    "            matrix_representation = new_matrix_representation\n",
    "        self.wait(1)"
   ]
  }
 ],
 "metadata": {
  "kernelspec": {
   "display_name": ".env",
   "language": "python",
   "name": "python3"
  },
  "language_info": {
   "codemirror_mode": {
    "name": "ipython",
    "version": 3
   },
   "file_extension": ".py",
   "mimetype": "text/x-python",
   "name": "python",
   "nbconvert_exporter": "python",
   "pygments_lexer": "ipython3",
   "version": "3.12.2"
  }
 },
 "nbformat": 4,
 "nbformat_minor": 2
}
